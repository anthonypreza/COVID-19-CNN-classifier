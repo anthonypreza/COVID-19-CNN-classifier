{
 "cells": [
  {
   "cell_type": "code",
   "execution_count": 1,
   "metadata": {},
   "outputs": [],
   "source": [
    "import os\n",
    "import random\n",
    "\n",
    "import tensorflow as tf\n",
    "from tensorflow import keras\n",
    "\n",
    "classes = ['normal', 'bp', 'vp']\n",
    "\n",
    "table = tf.lookup.StaticHashTable(\n",
    "    initializer=tf.lookup.KeyValueTensorInitializer(\n",
    "        keys=tf.constant(classes),\n",
    "        values=tf.constant([0, 1, 1]), # normal = 0, pneumonia = 1\n",
    "    ),\n",
    "    default_value=tf.constant(-1),\n",
    "    name=\"class_weight\"\n",
    ")\n",
    "\n",
    "def make_dataset(dir_, num_parallel_calls=tf.data.experimental.AUTOTUNE, shuffle=100, repeat=1, batch=30):\n",
    "    set_ = []\n",
    "    \n",
    "    def preprocess(tensor):\n",
    "        img_file = tensor[0]\n",
    "        \n",
    "        # read the image file\n",
    "        img_str = tf.io.read_file(img_file)\n",
    "                \n",
    "        # decode image as jpeg\n",
    "        img_decoded = tf.image.decode_jpeg(img_str, channels=3)\n",
    "                \n",
    "        # cast image data to float32\n",
    "        img = tf.cast(img_decoded, tf.float32)\n",
    "        \n",
    "        # resize image to proper shape\n",
    "        resized_img = tf.image.resize(img, (128, 128))\n",
    "        \n",
    "        return resized_img / 255., table.lookup(tensor[1])\n",
    "    \n",
    "    for class_ in classes:\n",
    "        curdir = f'{dir_}/{class_}'\n",
    "        set_.extend([(f'{curdir}/{filename}', class_ ) for filename in os.listdir(curdir) if '.jpe' in filename or '.png' in filename])\n",
    "        \n",
    "        # shuffle the (filename, label) tuples\n",
    "        random.shuffle(set_)\n",
    "        \n",
    "    dataset = tf.data.Dataset.from_tensor_slices(tf.stack(set_))\n",
    "    dataset = dataset.map(preprocess, num_parallel_calls=num_parallel_calls)\n",
    "    dataset = dataset.shuffle(shuffle).repeat(repeat)\n",
    "    \n",
    "    return dataset.batch(batch).prefetch(1)"
   ]
  },
  {
   "cell_type": "code",
   "execution_count": 2,
   "metadata": {},
   "outputs": [],
   "source": [
    "train_set = make_dataset('train')\n",
    "val_set = make_dataset('val')\n",
    "test_set = make_dataset('test')"
   ]
  },
  {
   "cell_type": "code",
   "execution_count": 3,
   "metadata": {},
   "outputs": [
    {
     "name": "stdout",
     "output_type": "stream",
     "text": [
      "(30, 128, 128, 3)\n",
      "tf.Tensor([1 1 0 1 1 0 1 1 1 1 1 1 1 0 1 1 1 0 1 1 1 1 1 1 1 0 1 1 1 1], shape=(30,), dtype=int32)\n"
     ]
    }
   ],
   "source": [
    "for item in train_set.take(1):\n",
    "    print(item[0].shape)\n",
    "    print(item[1])"
   ]
  },
  {
   "cell_type": "code",
   "execution_count": 4,
   "metadata": {},
   "outputs": [],
   "source": [
    "model = keras.models.Sequential([\n",
    "    keras.layers.InputLayer(input_shape=(128, 128, 3)),\n",
    "    keras.layers.Conv2D(64, (3,3), padding='same', activation=keras.activations.relu),\n",
    "    keras.layers.MaxPooling2D(padding='same'),\n",
    "    keras.layers.Conv2D(16, (3,3), padding='same', activation=keras.activations.relu),\n",
    "    keras.layers.MaxPooling2D(padding='same'),\n",
    "    keras.layers.Flatten(),\n",
    "    keras.layers.Dropout(0.5),\n",
    "    keras.layers.Dense(1, activation='sigmoid')\n",
    "])"
   ]
  },
  {
   "cell_type": "code",
   "execution_count": 5,
   "metadata": {},
   "outputs": [
    {
     "name": "stdout",
     "output_type": "stream",
     "text": [
      "Model: \"sequential\"\n",
      "_________________________________________________________________\n",
      "Layer (type)                 Output Shape              Param #   \n",
      "=================================================================\n",
      "conv2d (Conv2D)              (None, 128, 128, 64)      1792      \n",
      "_________________________________________________________________\n",
      "max_pooling2d (MaxPooling2D) (None, 64, 64, 64)        0         \n",
      "_________________________________________________________________\n",
      "conv2d_1 (Conv2D)            (None, 64, 64, 16)        9232      \n",
      "_________________________________________________________________\n",
      "max_pooling2d_1 (MaxPooling2 (None, 32, 32, 16)        0         \n",
      "_________________________________________________________________\n",
      "flatten (Flatten)            (None, 16384)             0         \n",
      "_________________________________________________________________\n",
      "dropout (Dropout)            (None, 16384)             0         \n",
      "_________________________________________________________________\n",
      "dense (Dense)                (None, 1)                 16385     \n",
      "=================================================================\n",
      "Total params: 27,409\n",
      "Trainable params: 27,409\n",
      "Non-trainable params: 0\n",
      "_________________________________________________________________\n"
     ]
    }
   ],
   "source": [
    "model.summary()"
   ]
  },
  {
   "cell_type": "code",
   "execution_count": 6,
   "metadata": {},
   "outputs": [
    {
     "name": "stdout",
     "output_type": "stream",
     "text": [
      "Epoch 1/25\n",
      "155/155 [==============================] - 66s 427ms/step - loss: 0.2555 - accuracy: 0.8988 - val_loss: 0.0000e+00 - val_accuracy: 0.0000e+00\n",
      "Epoch 2/25\n",
      "155/155 [==============================] - 66s 427ms/step - loss: 0.1146 - accuracy: 0.9565 - val_loss: 0.8829 - val_accuracy: 0.6842\n",
      "Epoch 3/25\n",
      "155/155 [==============================] - 66s 424ms/step - loss: 0.0895 - accuracy: 0.9658 - val_loss: 0.6303 - val_accuracy: 0.6842\n",
      "Epoch 4/25\n",
      "155/155 [==============================] - 65s 421ms/step - loss: 0.0764 - accuracy: 0.9710 - val_loss: 0.7309 - val_accuracy: 0.6842\n",
      "Epoch 5/25\n",
      "155/155 [==============================] - 65s 422ms/step - loss: 0.0710 - accuracy: 0.9723 - val_loss: 0.4202 - val_accuracy: 0.7895\n",
      "Epoch 6/25\n",
      "155/155 [==============================] - 66s 427ms/step - loss: 0.0707 - accuracy: 0.9730 - val_loss: 0.5672 - val_accuracy: 0.7368\n",
      "Epoch 7/25\n",
      "155/155 [==============================] - 66s 426ms/step - loss: 0.0575 - accuracy: 0.9782 - val_loss: 0.4621 - val_accuracy: 0.7368\n",
      "Epoch 8/25\n",
      "155/155 [==============================] - 66s 428ms/step - loss: 0.0552 - accuracy: 0.9795 - val_loss: 0.4361 - val_accuracy: 0.8421\n",
      "Epoch 9/25\n",
      "155/155 [==============================] - 65s 421ms/step - loss: 0.0435 - accuracy: 0.9829 - val_loss: 0.5327 - val_accuracy: 0.7895\n",
      "Epoch 10/25\n",
      "155/155 [==============================] - 66s 424ms/step - loss: 0.0422 - accuracy: 0.9857 - val_loss: 0.4559 - val_accuracy: 0.7895\n"
     ]
    }
   ],
   "source": [
    "model.compile(\n",
    "    optimizer=keras.optimizers.Adam(lr=.001, decay=1e-6),\n",
    "    loss=keras.losses.binary_crossentropy,\n",
    "    metrics=['accuracy'])\n",
    "\n",
    "history = model.fit(train_set, epochs=25, \n",
    "                    callbacks=[keras.callbacks.EarlyStopping(patience=5, monitor='val_loss')], \n",
    "                    validation_data=val_set)"
   ]
  },
  {
   "cell_type": "code",
   "execution_count": 7,
   "metadata": {},
   "outputs": [
    {
     "data": {
      "text/plain": [
       "<matplotlib.axes._subplots.AxesSubplot at 0x7f4afe3b31d0>"
      ]
     },
     "execution_count": 7,
     "metadata": {},
     "output_type": "execute_result"
    },
    {
     "data": {
      "image/png": "[encoded data removed]",
      "text/plain": [
       "<Figure size 432x288 with 1 Axes>"
      ]
     },
     "metadata": {
      "needs_background": "light"
     },
     "output_type": "display_data"
    }
   ],
   "source": [
    "import pandas as pd\n",
    "\n",
    "pd.DataFrame(history.history).plot()"
   ]
  },
  {
   "cell_type": "code",
   "execution_count": 8,
   "metadata": {},
   "outputs": [
    {
     "name": "stdout",
     "output_type": "stream",
     "text": [
      "19/19 [==============================] - 3s 157ms/step - loss: 1.7451 - accuracy: 0.7518\n"
     ]
    },
    {
     "data": {
      "text/plain": [
       "[1.745098772801851, 0.75179857]"
      ]
     },
     "execution_count": 8,
     "metadata": {},
     "output_type": "execute_result"
    }
   ],
   "source": [
    "model.evaluate(test_set)"
   ]
  }
 ],
 "metadata": {
  "kernelspec": {
   "display_name": "Python 3",
   "language": "python",
   "name": "python3"
  },
  "language_info": {
   "codemirror_mode": {
    "name": "ipython",
    "version": 3
   },
   "file_extension": ".py",
   "mimetype": "text/x-python",
   "name": "python",
   "nbconvert_exporter": "python",
   "pygments_lexer": "ipython3",
   "version": "3.6.9"
  }
 },
 "nbformat": 4,
 "nbformat_minor": 4
}
