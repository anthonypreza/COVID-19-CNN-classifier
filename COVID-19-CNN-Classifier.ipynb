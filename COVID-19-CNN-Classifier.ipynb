{
 "cells": [
  {
   "cell_type": "markdown",
   "metadata": {},
   "source": [
    "<h1>Building a Convolutional Neural Network (CNN) to Detect COVID-19 in X-Ray Images</h1>\n",
    "<h4>Anthony Preza</h4>\n",
    "<p>In this notebook, we will load and preprocess X-ray data from <a href=\"https://github.com/ieee8023/covid-chestxray-dataset\">this open soure dataset</a>. We will then build a CNN leveraging transfer learning from a ResNet50. The goal is to predict a diagnosis of COVID-19.</p>"
   ]
  },
  {
   "cell_type": "code",
   "execution_count": 1,
   "metadata": {},
   "outputs": [],
   "source": [
    "import os\n",
    "\n",
    "DATA_DIR = 'covid-chestxray-dataset'\n",
    "NORMAL_DIR = 'chest_xray'\n",
    "if DATA_DIR not in os.listdir():\n",
    "    !git clone https://github.com/ieee8023/covid-chestxray-dataset\n",
    "if NORMAL_DIR not in os.listdir():\n",
    "    !kaggle datasets download paultimothymooney/chest-xray-pneumonia && unzip chest-xray-pneumonia.zip && rm chest-xray-pneumonia.zip"
   ]
  },
  {
   "cell_type": "code",
   "execution_count": 2,
   "metadata": {},
   "outputs": [
    {
     "name": "stderr",
     "output_type": "stream",
     "text": [
      "/home/anthony/projects/COVID-19-x-ray-cnn/.venv/lib/python3.6/site-packages/tensorflow/python/framework/dtypes.py:516: FutureWarning: Passing (type, 1) or '1type' as a synonym of type is deprecated; in a future version of numpy, it will be understood as (type, (1,)) / '(1,)type'.\n",
      "  _np_qint8 = np.dtype([(\"qint8\", np.int8, 1)])\n",
      "/home/anthony/projects/COVID-19-x-ray-cnn/.venv/lib/python3.6/site-packages/tensorflow/python/framework/dtypes.py:517: FutureWarning: Passing (type, 1) or '1type' as a synonym of type is deprecated; in a future version of numpy, it will be understood as (type, (1,)) / '(1,)type'.\n",
      "  _np_quint8 = np.dtype([(\"quint8\", np.uint8, 1)])\n",
      "/home/anthony/projects/COVID-19-x-ray-cnn/.venv/lib/python3.6/site-packages/tensorflow/python/framework/dtypes.py:518: FutureWarning: Passing (type, 1) or '1type' as a synonym of type is deprecated; in a future version of numpy, it will be understood as (type, (1,)) / '(1,)type'.\n",
      "  _np_qint16 = np.dtype([(\"qint16\", np.int16, 1)])\n",
      "/home/anthony/projects/COVID-19-x-ray-cnn/.venv/lib/python3.6/site-packages/tensorflow/python/framework/dtypes.py:519: FutureWarning: Passing (type, 1) or '1type' as a synonym of type is deprecated; in a future version of numpy, it will be understood as (type, (1,)) / '(1,)type'.\n",
      "  _np_quint16 = np.dtype([(\"quint16\", np.uint16, 1)])\n",
      "/home/anthony/projects/COVID-19-x-ray-cnn/.venv/lib/python3.6/site-packages/tensorflow/python/framework/dtypes.py:520: FutureWarning: Passing (type, 1) or '1type' as a synonym of type is deprecated; in a future version of numpy, it will be understood as (type, (1,)) / '(1,)type'.\n",
      "  _np_qint32 = np.dtype([(\"qint32\", np.int32, 1)])\n",
      "/home/anthony/projects/COVID-19-x-ray-cnn/.venv/lib/python3.6/site-packages/tensorflow/python/framework/dtypes.py:525: FutureWarning: Passing (type, 1) or '1type' as a synonym of type is deprecated; in a future version of numpy, it will be understood as (type, (1,)) / '(1,)type'.\n",
      "  np_resource = np.dtype([(\"resource\", np.ubyte, 1)])\n",
      "/home/anthony/projects/COVID-19-x-ray-cnn/.venv/lib/python3.6/site-packages/tensorboard/compat/tensorflow_stub/dtypes.py:541: FutureWarning: Passing (type, 1) or '1type' as a synonym of type is deprecated; in a future version of numpy, it will be understood as (type, (1,)) / '(1,)type'.\n",
      "  _np_qint8 = np.dtype([(\"qint8\", np.int8, 1)])\n",
      "/home/anthony/projects/COVID-19-x-ray-cnn/.venv/lib/python3.6/site-packages/tensorboard/compat/tensorflow_stub/dtypes.py:542: FutureWarning: Passing (type, 1) or '1type' as a synonym of type is deprecated; in a future version of numpy, it will be understood as (type, (1,)) / '(1,)type'.\n",
      "  _np_quint8 = np.dtype([(\"quint8\", np.uint8, 1)])\n",
      "/home/anthony/projects/COVID-19-x-ray-cnn/.venv/lib/python3.6/site-packages/tensorboard/compat/tensorflow_stub/dtypes.py:543: FutureWarning: Passing (type, 1) or '1type' as a synonym of type is deprecated; in a future version of numpy, it will be understood as (type, (1,)) / '(1,)type'.\n",
      "  _np_qint16 = np.dtype([(\"qint16\", np.int16, 1)])\n",
      "/home/anthony/projects/COVID-19-x-ray-cnn/.venv/lib/python3.6/site-packages/tensorboard/compat/tensorflow_stub/dtypes.py:544: FutureWarning: Passing (type, 1) or '1type' as a synonym of type is deprecated; in a future version of numpy, it will be understood as (type, (1,)) / '(1,)type'.\n",
      "  _np_quint16 = np.dtype([(\"quint16\", np.uint16, 1)])\n",
      "/home/anthony/projects/COVID-19-x-ray-cnn/.venv/lib/python3.6/site-packages/tensorboard/compat/tensorflow_stub/dtypes.py:545: FutureWarning: Passing (type, 1) or '1type' as a synonym of type is deprecated; in a future version of numpy, it will be understood as (type, (1,)) / '(1,)type'.\n",
      "  _np_qint32 = np.dtype([(\"qint32\", np.int32, 1)])\n",
      "/home/anthony/projects/COVID-19-x-ray-cnn/.venv/lib/python3.6/site-packages/tensorboard/compat/tensorflow_stub/dtypes.py:550: FutureWarning: Passing (type, 1) or '1type' as a synonym of type is deprecated; in a future version of numpy, it will be understood as (type, (1,)) / '(1,)type'.\n",
      "  np_resource = np.dtype([(\"resource\", np.ubyte, 1)])\n"
     ]
    }
   ],
   "source": [
    "import sys\n",
    "import logging\n",
    "import IPython.display as display\n",
    "from PIL import Image\n",
    "import pandas as pd\n",
    "import numpy as np\n",
    "import matplotlib.pyplot as plt\n",
    "import tensorflow as tf\n",
    "from tensorflow import keras\n",
    "from sklearn.model_selection import train_test_split\n",
    "from sklearn.preprocessing import LabelBinarizer\n",
    "tf.enable_eager_execution()"
   ]
  },
  {
   "cell_type": "markdown",
   "metadata": {},
   "source": [
    "<h4>Load and Preprocess Data</h4>\n",
    "<p>We will determine the shape of the data and perform any preprocessing operations. In regards ato the data, we will be filtering the images down to x-ray view == PA. In order to use the ResNet50 base model, we prepare the data for transfer learning.</p>\n",
    "<p>* Adding in normal images from <a href=\"https://www.kaggle.com/paultimothymooney/chest-xray-pneumonia\">this dataset</a>."
   ]
  },
  {
   "cell_type": "code",
   "execution_count": 3,
   "metadata": {},
   "outputs": [
    {
     "name": "stdout",
     "output_type": "stream",
     "text": [
      "Number of images in covid image directory: 153\n"
     ]
    }
   ],
   "source": [
    "LOGGER = logging.getLogger(__name__)\n",
    "LOGGER.setLevel(logging.INFO)\n",
    "LOGGER.addHandler(logging.StreamHandler(stream=sys.stdout))\n",
    "# determine number of images we will be working with\n",
    "LOGGER.info(f'Number of images in covid image directory: %s', len(os.listdir(f\"{DATA_DIR}/images\")))"
   ]
  },
  {
   "cell_type": "code",
   "execution_count": 4,
   "metadata": {},
   "outputs": [
    {
     "data": {
      "text/html": [
       "<div>\n",
       "<style scoped>\n",
       "    .dataframe tbody tr th:only-of-type {\n",
       "        vertical-align: middle;\n",
       "    }\n",
       "\n",
       "    .dataframe tbody tr th {\n",
       "        vertical-align: top;\n",
       "    }\n",
       "\n",
       "    .dataframe thead th {\n",
       "        text-align: right;\n",
       "    }\n",
       "</style>\n",
       "<table border=\"1\" class=\"dataframe\">\n",
       "  <thead>\n",
       "    <tr style=\"text-align: right;\">\n",
       "      <th></th>\n",
       "      <th>Patientid</th>\n",
       "      <th>offset</th>\n",
       "      <th>sex</th>\n",
       "      <th>age</th>\n",
       "      <th>finding</th>\n",
       "      <th>survival</th>\n",
       "      <th>view</th>\n",
       "      <th>modality</th>\n",
       "      <th>date</th>\n",
       "      <th>location</th>\n",
       "      <th>filename</th>\n",
       "      <th>doi</th>\n",
       "      <th>url</th>\n",
       "      <th>license</th>\n",
       "      <th>clinical notes</th>\n",
       "      <th>other notes</th>\n",
       "      <th>Unnamed: 16</th>\n",
       "    </tr>\n",
       "  </thead>\n",
       "  <tbody>\n",
       "    <tr>\n",
       "      <th>0</th>\n",
       "      <td>2</td>\n",
       "      <td>0.0</td>\n",
       "      <td>M</td>\n",
       "      <td>65.0</td>\n",
       "      <td>COVID-19</td>\n",
       "      <td>Y</td>\n",
       "      <td>PA</td>\n",
       "      <td>X-ray</td>\n",
       "      <td>2020</td>\n",
       "      <td>NaN</td>\n",
       "      <td>auntminnie-a-2020_01_28_23_51_6665_2020_01_28_...</td>\n",
       "      <td>10.1056/nejmc2001272</td>\n",
       "      <td>https://www.nejm.org/doi/full/10.1056/NEJMc200...</td>\n",
       "      <td>NaN</td>\n",
       "      <td>NaN</td>\n",
       "      <td>NaN</td>\n",
       "      <td>NaN</td>\n",
       "    </tr>\n",
       "    <tr>\n",
       "      <th>1</th>\n",
       "      <td>2</td>\n",
       "      <td>3.0</td>\n",
       "      <td>M</td>\n",
       "      <td>65.0</td>\n",
       "      <td>COVID-19</td>\n",
       "      <td>Y</td>\n",
       "      <td>PA</td>\n",
       "      <td>X-ray</td>\n",
       "      <td>2020</td>\n",
       "      <td>NaN</td>\n",
       "      <td>auntminnie-b-2020_01_28_23_51_6665_2020_01_28_...</td>\n",
       "      <td>10.1056/nejmc2001272</td>\n",
       "      <td>https://www.nejm.org/doi/full/10.1056/NEJMc200...</td>\n",
       "      <td>NaN</td>\n",
       "      <td>NaN</td>\n",
       "      <td>NaN</td>\n",
       "      <td>NaN</td>\n",
       "    </tr>\n",
       "    <tr>\n",
       "      <th>2</th>\n",
       "      <td>2</td>\n",
       "      <td>5.0</td>\n",
       "      <td>M</td>\n",
       "      <td>65.0</td>\n",
       "      <td>COVID-19</td>\n",
       "      <td>Y</td>\n",
       "      <td>PA</td>\n",
       "      <td>X-ray</td>\n",
       "      <td>2020</td>\n",
       "      <td>NaN</td>\n",
       "      <td>auntminnie-c-2020_01_28_23_51_6665_2020_01_28_...</td>\n",
       "      <td>10.1056/nejmc2001272</td>\n",
       "      <td>https://www.nejm.org/doi/full/10.1056/NEJMc200...</td>\n",
       "      <td>NaN</td>\n",
       "      <td>NaN</td>\n",
       "      <td>NaN</td>\n",
       "      <td>NaN</td>\n",
       "    </tr>\n",
       "    <tr>\n",
       "      <th>3</th>\n",
       "      <td>2</td>\n",
       "      <td>6.0</td>\n",
       "      <td>M</td>\n",
       "      <td>65.0</td>\n",
       "      <td>COVID-19</td>\n",
       "      <td>Y</td>\n",
       "      <td>PA</td>\n",
       "      <td>X-ray</td>\n",
       "      <td>2020</td>\n",
       "      <td>NaN</td>\n",
       "      <td>auntminnie-d-2020_01_28_23_51_6665_2020_01_28_...</td>\n",
       "      <td>10.1056/nejmc2001272</td>\n",
       "      <td>https://www.nejm.org/doi/full/10.1056/NEJMc200...</td>\n",
       "      <td>NaN</td>\n",
       "      <td>NaN</td>\n",
       "      <td>NaN</td>\n",
       "      <td>NaN</td>\n",
       "    </tr>\n",
       "    <tr>\n",
       "      <th>4</th>\n",
       "      <td>4</td>\n",
       "      <td>0.0</td>\n",
       "      <td>F</td>\n",
       "      <td>52.0</td>\n",
       "      <td>COVID-19</td>\n",
       "      <td>NaN</td>\n",
       "      <td>PA</td>\n",
       "      <td>X-ray</td>\n",
       "      <td>2020</td>\n",
       "      <td>Changhua Christian Hospital, Changhua City, Ta...</td>\n",
       "      <td>nejmc2001573_f1a.jpeg</td>\n",
       "      <td>10.1056/NEJMc2001573</td>\n",
       "      <td>https://www.nejm.org/doi/full/10.1056/NEJMc200...</td>\n",
       "      <td>NaN</td>\n",
       "      <td>diffuse infiltrates in the bilateral lower lungs</td>\n",
       "      <td>NaN</td>\n",
       "      <td>NaN</td>\n",
       "    </tr>\n",
       "  </tbody>\n",
       "</table>\n",
       "</div>"
      ],
      "text/plain": [
       "   Patientid  offset sex   age   finding survival view modality  date  \\\n",
       "0          2     0.0   M  65.0  COVID-19        Y   PA    X-ray  2020   \n",
       "1          2     3.0   M  65.0  COVID-19        Y   PA    X-ray  2020   \n",
       "2          2     5.0   M  65.0  COVID-19        Y   PA    X-ray  2020   \n",
       "3          2     6.0   M  65.0  COVID-19        Y   PA    X-ray  2020   \n",
       "4          4     0.0   F  52.0  COVID-19      NaN   PA    X-ray  2020   \n",
       "\n",
       "                                            location  \\\n",
       "0                                                NaN   \n",
       "1                                                NaN   \n",
       "2                                                NaN   \n",
       "3                                                NaN   \n",
       "4  Changhua Christian Hospital, Changhua City, Ta...   \n",
       "\n",
       "                                            filename                   doi  \\\n",
       "0  auntminnie-a-2020_01_28_23_51_6665_2020_01_28_...  10.1056/nejmc2001272   \n",
       "1  auntminnie-b-2020_01_28_23_51_6665_2020_01_28_...  10.1056/nejmc2001272   \n",
       "2  auntminnie-c-2020_01_28_23_51_6665_2020_01_28_...  10.1056/nejmc2001272   \n",
       "3  auntminnie-d-2020_01_28_23_51_6665_2020_01_28_...  10.1056/nejmc2001272   \n",
       "4                              nejmc2001573_f1a.jpeg  10.1056/NEJMc2001573   \n",
       "\n",
       "                                                 url license  \\\n",
       "0  https://www.nejm.org/doi/full/10.1056/NEJMc200...     NaN   \n",
       "1  https://www.nejm.org/doi/full/10.1056/NEJMc200...     NaN   \n",
       "2  https://www.nejm.org/doi/full/10.1056/NEJMc200...     NaN   \n",
       "3  https://www.nejm.org/doi/full/10.1056/NEJMc200...     NaN   \n",
       "4  https://www.nejm.org/doi/full/10.1056/NEJMc200...     NaN   \n",
       "\n",
       "                                     clinical notes other notes Unnamed: 16  \n",
       "0                                               NaN         NaN         NaN  \n",
       "1                                               NaN         NaN         NaN  \n",
       "2                                               NaN         NaN         NaN  \n",
       "3                                               NaN         NaN         NaN  \n",
       "4  diffuse infiltrates in the bilateral lower lungs         NaN         NaN  "
      ]
     },
     "execution_count": 4,
     "metadata": {},
     "output_type": "execute_result"
    }
   ],
   "source": [
    "# load and visualize metadata\n",
    "metadata = pd.read_csv(f'{DATA_DIR}/metadata.csv')\n",
    "metadata.head()"
   ]
  },
  {
   "cell_type": "code",
   "execution_count": 5,
   "metadata": {},
   "outputs": [
    {
     "data": {
      "text/plain": [
       "(149, 17)"
      ]
     },
     "execution_count": 5,
     "metadata": {},
     "output_type": "execute_result"
    }
   ],
   "source": [
    "metadata.shape"
   ]
  },
  {
   "cell_type": "code",
   "execution_count": 6,
   "metadata": {},
   "outputs": [],
   "source": [
    "# filter to only postoanterior images\n",
    "metadata = metadata[metadata['view'] == 'PA']"
   ]
  },
  {
   "cell_type": "code",
   "execution_count": 7,
   "metadata": {},
   "outputs": [
    {
     "name": "stdout",
     "output_type": "stream",
     "text": [
      "Number of COVID-19 cases: 71/94\n"
     ]
    }
   ],
   "source": [
    "image_filenames = metadata['filename']\n",
    "labels = (metadata['finding'] == 'COVID-19')\n",
    "LOGGER.info(f'Number of COVID-19 cases: %s/%s', len(metadata[\"finding\"][labels]), len(metadata))"
   ]
  },
  {
   "cell_type": "code",
   "execution_count": 8,
   "metadata": {},
   "outputs": [
    {
     "data": {
      "text/plain": [
       "(('auntminnie-a-2020_01_28_23_51_6665_2020_01_28_Vietnam_coronavirus.jpeg',\n",
       "  True),\n",
       " ('auntminnie-b-2020_01_28_23_51_6665_2020_01_28_Vietnam_coronavirus.jpeg',\n",
       "  True),\n",
       " ('auntminnie-c-2020_01_28_23_51_6665_2020_01_28_Vietnam_coronavirus.jpeg',\n",
       "  True),\n",
       " ('auntminnie-d-2020_01_28_23_51_6665_2020_01_28_Vietnam_coronavirus.jpeg',\n",
       "  True),\n",
       " ('nejmc2001573_f1a.jpeg', True))"
      ]
     },
     "execution_count": 8,
     "metadata": {},
     "output_type": "execute_result"
    }
   ],
   "source": [
    "data_to_process = tuple(zip(image_filenames, labels))\n",
    "data_to_process[:5]"
   ]
  },
  {
   "cell_type": "code",
   "execution_count": 9,
   "metadata": {},
   "outputs": [],
   "source": [
    "# visualize one image\n",
    "# Image.open(f'{DATA_DIR}/images/{data_to_process[0][0]}')"
   ]
  },
  {
   "cell_type": "code",
   "execution_count": 10,
   "metadata": {},
   "outputs": [
    {
     "name": "stdout",
     "output_type": "stream",
     "text": [
      "Loading and preprocessing data...\n"
     ]
    }
   ],
   "source": [
    "# we will utilize the metadata to load and preprocess images\n",
    "def load_and_preprocess_data(data=data_to_process, \n",
    "                             images_path=f'{DATA_DIR}/images'):\n",
    "    \n",
    "    def covid_img_generator(data=data, images_path=images_path):\n",
    "        for filename, label in data:\n",
    "            # read the image file\n",
    "            img_str = tf.io.read_file(f'{images_path}/{filename}')\n",
    "            # decode image as jpeg\n",
    "            img_decoded = tf.image.decode_jpeg(img_str, channels=3)\n",
    "            # cast image data to float32\n",
    "            img = tf.cast(img_decoded, tf.float32)\n",
    "            # resize image to proper shape\n",
    "            resized_img = tf.image.resize(img, (224, 224))\n",
    "            final_img = keras.applications.resnet50.preprocess_input(resized_img)\n",
    "            yield final_img\n",
    "    \n",
    "    root_dir='chest_xray'\n",
    "    img_dirs=['test', 'train', 'val']\n",
    "    dirs = [f'{root_dir}/{dir_}/NORMAL' for dir_ in img_dirs]\n",
    "    imgs = []\n",
    "    for dir_ in dirs:\n",
    "        imgs.extend([f'{dir_}/{filename}' for filename in os.listdir(dir_) if '.jpeg' in filename])\n",
    "    imgs = imgs[:len(data)]\n",
    "\n",
    "    def normal_img_generator(imgs=imgs):\n",
    "        for filename in imgs:\n",
    "            # read the image file\n",
    "            img_str = tf.read_file(filename)\n",
    "            # decode image as jpeg\n",
    "            img_decoded = tf.image.decode_jpeg(img_str, channels=3)\n",
    "            # cast image data to float32\n",
    "            img = tf.cast(img_decoded, tf.float32)\n",
    "            # resize image to proper shape\n",
    "            resized_img = tf.image.resize(img, (224, 224))\n",
    "            final_img = keras.applications.resnet50.preprocess_input(resized_img)\n",
    "            yield final_img\n",
    "\n",
    "    X = tf.stack([x for x in covid_img_generator()] + [y for y in normal_img_generator()], axis=0).numpy()\n",
    "    y = [x[1] for x in data] + [0] * len(imgs)\n",
    "    \n",
    "    binarizer = LabelBinarizer()\n",
    "    y = binarizer.fit_transform(y)\n",
    "    y = keras.utils.to_categorical(y)\n",
    "    \n",
    "    return X, y\n",
    "\n",
    "LOGGER.info('Loading and preprocessing data...')\n",
    "X, y = load_and_preprocess_data()"
   ]
  },
  {
   "cell_type": "code",
   "execution_count": 11,
   "metadata": {},
   "outputs": [
    {
     "name": "stderr",
     "output_type": "stream",
     "text": [
      "Clipping input data to the valid range for imshow with RGB data ([0..1] for floats or [0..255] for integers).\n"
     ]
    },
    {
     "data": {
      "image/png": "[encoded data removed]",
      "text/plain": [
       "<Figure size 432x288 with 1 Axes>"
      ]
     },
     "metadata": {
      "needs_background": "light"
     },
     "output_type": "display_data"
    }
   ],
   "source": [
    "# visualize positive preprocessed image\n",
    "plt.imshow(X[0])\n",
    "plt.title('COVID-19')\n",
    "plt.show()"
   ]
  },
  {
   "cell_type": "code",
   "execution_count": 12,
   "metadata": {},
   "outputs": [
    {
     "name": "stderr",
     "output_type": "stream",
     "text": [
      "Clipping input data to the valid range for imshow with RGB data ([0..1] for floats or [0..255] for integers).\n"
     ]
    },
    {
     "data": {
      "image/png": "[encoded data removed]",
      "text/plain": [
       "<Figure size 432x288 with 1 Axes>"
      ]
     },
     "metadata": {
      "needs_background": "light"
     },
     "output_type": "display_data"
    }
   ],
   "source": [
    "# visualize negative preprocessed image\n",
    "plt.imshow(X[-1])\n",
    "plt.title('Normal')\n",
    "plt.show()"
   ]
  },
  {
   "cell_type": "markdown",
   "metadata": {},
   "source": [
    "<h4>Split data into training, validation, and testing sets</h4>\n",
    "<p>Now that the data has been preprocessed, we can split it into training, validation, and testing sets. The training set will be used to train the CNN. Validation set is needed to validate hyperparamaters used to tune the model. Testing set will allow us to evaluate final performance.</p>"
   ]
  },
  {
   "cell_type": "code",
   "execution_count": 13,
   "metadata": {},
   "outputs": [
    {
     "name": "stdout",
     "output_type": "stream",
     "text": [
      "Full data shape: (188, 224, 224, 3)\n"
     ]
    }
   ],
   "source": [
    "LOGGER.info('Full data shape: %s', X.shape)"
   ]
  },
  {
   "cell_type": "code",
   "execution_count": 14,
   "metadata": {},
   "outputs": [
    {
     "name": "stdout",
     "output_type": "stream",
     "text": [
      "Splitting data into training, validation, and testing set...\n"
     ]
    }
   ],
   "source": [
    "LOGGER.info('Splitting data into training, validation, and testing set...')\n",
    "X_train_full, X_test, y_train_full, y_test = train_test_split(X, y, \n",
    "                                                              stratify=y,\n",
    "                                                              test_size=0.2)\n",
    "\n",
    "X_train, X_val, y_train, y_val = train_test_split(X_train_full, y_train_full, \n",
    "                                                              stratify=y_train_full,\n",
    "                                                              test_size=0.3)"
   ]
  },
  {
   "cell_type": "markdown",
   "metadata": {},
   "source": [
    "<h4>Build and Train CNN</h4>\n",
    "<p>Here we will build a CNN using the ResNet50 architecture as a base model and adding a global pooling and dense layer to the top of the model (implementing dropout). We will train for 100 epochs, and implement early stopping with a patience of 10. The base model is frozen during the initial training session until the top layers are well trained, then all layers are unfrozen to continue training.</p>"
   ]
  },
  {
   "cell_type": "code",
   "execution_count": 15,
   "metadata": {},
   "outputs": [
    {
     "name": "stdout",
     "output_type": "stream",
     "text": [
      "Building CNN model...\n"
     ]
    },
    {
     "name": "stderr",
     "output_type": "stream",
     "text": [
      "/home/anthony/projects/COVID-19-x-ray-cnn/.venv/lib/python3.6/site-packages/keras_applications/resnet50.py:265: UserWarning: The output shape of `ResNet50(include_top=False)` has been changed since Keras 2.2.0.\n",
      "  warnings.warn('The output shape of `ResNet50(include_top=False)` '\n"
     ]
    }
   ],
   "source": [
    "LOGGER.info('Building CNN model...')\n",
    "base_model = keras.applications.resnet50.ResNet50(weights='imagenet',\n",
    "                                                 include_top=False)\n",
    "\n",
    "avg = keras.layers.GlobalAveragePooling2D()(base_model.output)\n",
    "norm = keras.layers.BatchNormalization()(avg)\n",
    "dense = keras.layers.Dense(64, activation=keras.activations.relu)(norm)\n",
    "dropout = keras.layers.Dropout(0.5)(dense)\n",
    "dense = keras.layers.Dense(20, activation=keras.activations.relu)(dropout)\n",
    "dropout = keras.layers.Dropout(0.5)(dense)\n",
    "output = keras.layers.Dense(2, activation=keras.activations.softmax)(dropout)\n",
    "model = keras.Model(inputs=base_model.input, outputs=output)"
   ]
  },
  {
   "cell_type": "code",
   "execution_count": 16,
   "metadata": {},
   "outputs": [
    {
     "name": "stdout",
     "output_type": "stream",
     "text": [
      "Compiling model...\n",
      "Training top layers of model...\n",
      "Train on 105 samples, validate on 45 samples\n",
      "WARNING:tensorflow:From /home/anthony/projects/COVID-19-x-ray-cnn/.venv/lib/python3.6/site-packages/tensorflow/python/ops/math_grad.py:1250: add_dispatch_support.<locals>.wrapper (from tensorflow.python.ops.array_ops) is deprecated and will be removed in a future version.\n",
      "Instructions for updating:\n",
      "Use tf.where in 2.0, which has the same broadcast rule as np.where\n",
      "Epoch 1/5\n",
      "105/105 [==============================] - 17s 159ms/sample - loss: 0.7528 - acc: 0.5905 - val_loss: 0.7803 - val_acc: 0.5111\n",
      "Epoch 2/5\n",
      "105/105 [==============================] - 8s 79ms/sample - loss: 0.4141 - acc: 0.8381 - val_loss: 0.5231 - val_acc: 0.7333\n",
      "Epoch 3/5\n",
      "105/105 [==============================] - 7s 71ms/sample - loss: 0.5564 - acc: 0.7810 - val_loss: 0.4842 - val_acc: 0.6889\n",
      "Epoch 4/5\n",
      "105/105 [==============================] - 8s 72ms/sample - loss: 0.5979 - acc: 0.7619 - val_loss: 0.4775 - val_acc: 0.7333\n",
      "Epoch 5/5\n",
      "105/105 [==============================] - 7s 70ms/sample - loss: 0.3133 - acc: 0.8952 - val_loss: 0.4755 - val_acc: 0.7111\n"
     ]
    }
   ],
   "source": [
    "lr = 1.5e-3\n",
    "for layer in base_model.layers:\n",
    "    layer.trainable = False\n",
    "\n",
    "LOGGER.info('Compiling model...')\n",
    "model.compile(loss=keras.losses.binary_crossentropy, \n",
    "              optimizer=keras.optimizers.Adam(lr=lr, decay=lr / 5),\n",
    "              metrics=['accuracy'])\n",
    "\n",
    "LOGGER.info('Training top layers of model...')\n",
    "history = model.fit(X_train, y_train, epochs=5, validation_data=(X_val, y_val))"
   ]
  },
  {
   "cell_type": "code",
   "execution_count": 17,
   "metadata": {},
   "outputs": [
    {
     "data": {
      "image/png": "[encoded data removed]",
      "text/plain": [
       "<Figure size 576x360 with 1 Axes>"
      ]
     },
     "metadata": {
      "needs_background": "light"
     },
     "output_type": "display_data"
    }
   ],
   "source": [
    "pd.DataFrame(history.history).plot(figsize=(8,5))\n",
    "plt.grid(True)\n",
    "plt.gca().set_ylim(0,1)\n",
    "plt.show()"
   ]
  },
  {
   "cell_type": "code",
   "execution_count": 18,
   "metadata": {},
   "outputs": [
    {
     "name": "stdout",
     "output_type": "stream",
     "text": [
      "38/38 [==============================] - 3s 77ms/sample - loss: 0.3614 - acc: 0.8158\n",
      "Initial loss: 0.3614270263596585\n",
      "Initial accuracy: 0.8157894611358643\n"
     ]
    }
   ],
   "source": [
    "loss, acc = model.evaluate(X_test, y_test)\n",
    "print(f'Initial loss: {loss}')\n",
    "print(f'Initial accuracy: {acc}')"
   ]
  },
  {
   "cell_type": "code",
   "execution_count": 19,
   "metadata": {},
   "outputs": [
    {
     "name": "stdout",
     "output_type": "stream",
     "text": [
      "Train on 105 samples, validate on 45 samples\n",
      "Epoch 1/100\n",
      "105/105 [==============================] - 56s 532ms/sample - loss: 0.2174 - acc: 0.9048 - val_loss: 0.4946 - val_acc: 0.7111\n",
      "Epoch 2/100\n",
      "105/105 [==============================] - 36s 339ms/sample - loss: 0.2718 - acc: 0.8952 - val_loss: 0.5332 - val_acc: 0.7333\n",
      "Epoch 3/100\n",
      "105/105 [==============================] - 37s 353ms/sample - loss: 0.1611 - acc: 0.9429 - val_loss: 0.6331 - val_acc: 0.7333\n",
      "Epoch 4/100\n",
      "105/105 [==============================] - 36s 343ms/sample - loss: 0.2279 - acc: 0.8762 - val_loss: 0.6727 - val_acc: 0.7111\n",
      "Epoch 5/100\n",
      "105/105 [==============================] - 37s 355ms/sample - loss: 0.1986 - acc: 0.8952 - val_loss: 0.7015 - val_acc: 0.7111\n",
      "Epoch 6/100\n",
      "105/105 [==============================] - 38s 361ms/sample - loss: 0.1554 - acc: 0.9429 - val_loss: 0.7285 - val_acc: 0.7333\n",
      "Epoch 7/100\n",
      "105/105 [==============================] - 35s 333ms/sample - loss: 0.1890 - acc: 0.9143 - val_loss: 0.7456 - val_acc: 0.7333\n",
      "Epoch 8/100\n",
      "105/105 [==============================] - 38s 362ms/sample - loss: 0.0855 - acc: 0.9905 - val_loss: 0.7079 - val_acc: 0.7778\n",
      "Epoch 9/100\n",
      "105/105 [==============================] - 38s 361ms/sample - loss: 0.1308 - acc: 0.9524 - val_loss: 0.6671 - val_acc: 0.8000\n",
      "Epoch 10/100\n",
      "105/105 [==============================] - 37s 356ms/sample - loss: 0.0825 - acc: 0.9810 - val_loss: 0.6266 - val_acc: 0.8000\n",
      "Epoch 11/100\n",
      "105/105 [==============================] - 38s 365ms/sample - loss: 0.0741 - acc: 0.9714 - val_loss: 0.6130 - val_acc: 0.8000\n"
     ]
    }
   ],
   "source": [
    "lr = 7.5e-5\n",
    "for layer in base_model.layers:\n",
    "    layer.trainable = True\n",
    "\n",
    "model.compile(loss=keras.losses.binary_crossentropy, \n",
    "              optimizer=keras.optimizers.Adam(lr=lr, decay=lr / 100),\n",
    "              metrics=['accuracy'])\n",
    "\n",
    "history = model.fit(X_train, y_train, epochs=100, \n",
    "                    validation_data=(X_val, y_val), \n",
    "                    callbacks=[keras.callbacks.EarlyStopping(patience=10)])"
   ]
  },
  {
   "cell_type": "code",
   "execution_count": 20,
   "metadata": {},
   "outputs": [
    {
     "name": "stdout",
     "output_type": "stream",
     "text": [
      "38/38 [==============================] - 3s 77ms/sample - loss: 0.2720 - acc: 0.9211\n",
      "Final loss: 0.27195864131576136\n",
      "Final accuracy: 0.9210526347160339\n"
     ]
    }
   ],
   "source": [
    "loss, acc = model.evaluate(X_test, y_test)\n",
    "print(f'Final loss: {loss}')\n",
    "print(f'Final accuracy: {acc}')"
   ]
  },
  {
   "cell_type": "code",
   "execution_count": 21,
   "metadata": {},
   "outputs": [
    {
     "data": {
      "image/png": "[encoded data removed]",
      "text/plain": [
       "<Figure size 576x360 with 1 Axes>"
      ]
     },
     "metadata": {
      "needs_background": "light"
     },
     "output_type": "display_data"
    }
   ],
   "source": [
    "pd.DataFrame(history.history).plot(figsize=(8,5))\n",
    "plt.grid(True)\n",
    "plt.gca().set_ylim(0,1)\n",
    "plt.show()"
   ]
  },
  {
   "cell_type": "code",
   "execution_count": null,
   "metadata": {},
   "outputs": [],
   "source": []
  }
 ],
 "metadata": {
  "kernelspec": {
   "display_name": "Python 3",
   "language": "python",
   "name": "python3"
  },
  "language_info": {
   "codemirror_mode": {
    "name": "ipython",
    "version": 3
   },
   "file_extension": ".py",
   "mimetype": "text/x-python",
   "name": "python",
   "nbconvert_exporter": "python",
   "pygments_lexer": "ipython3",
   "version": "3.6.9"
  }
 },
 "nbformat": 4,
 "nbformat_minor": 4
}
